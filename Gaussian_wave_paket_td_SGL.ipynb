{
 "cells": [
  {
   "cell_type": "code",
   "execution_count": 1,
   "id": "11870421",
   "metadata": {},
   "outputs": [],
   "source": [
    "import numpy as np\n",
    "from findiff import FinDiff\n",
    "from scipy.integrate import solve_ivp\n",
    "import matplotlib.pyplot as plt\n"
   ]
  },
  {
   "cell_type": "code",
   "execution_count": 2,
   "id": "fa843cbc",
   "metadata": {},
   "outputs": [],
   "source": [
    "# The grid in space and time:\n",
    "dx    = 0.002                      # spatial separation\n",
    "x     = np.arange(0, 20, dx)       # spatial grid points\n",
    "dt = 0.001  # time interval for snapshots\n",
    "t0 = 0.0    # initial time\n",
    "tf = 0.2    # final time\n",
    "ts = np.arange(t0, tf, dt) \n",
    "\n"
   ]
  },
  {
   "cell_type": "code",
   "execution_count": 3,
   "id": "24bc42ab",
   "metadata": {},
   "outputs": [
    {
     "data": {
      "image/png": "[encoded data removed]",
      "text/plain": [
       "<Figure size 640x480 with 1 Axes>"
      ]
     },
     "metadata": {},
     "output_type": "display_data"
    }
   ],
   "source": [
    "# plot x range\n",
    "plt.figure()\n",
    "\n",
    "plt.hlines(1,x[0],x[10])  # Draw a horizontal line\n",
    "plt.eventplot(x[0:10], orientation='horizontal', colors='b')\n",
    "plt.yticks([])\n",
    "plt.xlabel(\"x (a.u.)\")\n",
    "plt.show()\n"
   ]
  },
  {
   "cell_type": "markdown",
   "id": "1c15a1f9",
   "metadata": {},
   "source": [
    "Initial Wavefunction\n",
    "\\\\[\n",
    "A=\\frac{1}{\\sigma \\sqrt{\\pi}}\n",
    "\\\\]\n",
    "\n",
    "\\\\[\n",
    "\\psi=A e^{\\frac{-\\left(x-x_{0}\\right)^{2}}{2 \\sigma^{2}}} e^{+i k_x x}\n",
    "\\\\]"
   ]
  },
  {
   "cell_type": "code",
   "execution_count": 4,
   "id": "3ac40b7a",
   "metadata": {},
   "outputs": [],
   "source": [
    "kx    = 20                         # wave number\n",
    "m     = 1                          # mass\n",
    "sigma = 0.1                        # width of initial gaussian wave-packet\n",
    "x0    = 3.0                        # center of initial gaussian wave-packet\n",
    "\n",
    "A = 1.0 / (sigma * np.sqrt(np.pi)) # normalization constant\n",
    "\n",
    "# Initial Wavefunction\n",
    "psi = np.sqrt(A) * np.exp(-(x-x0)**2 / (2.0 * sigma**2)) * np.exp(1j * kx * x)"
   ]
  },
  {
   "cell_type": "markdown",
   "id": "cee2d203",
   "metadata": {},
   "source": [
    "Plot of initial wave function"
   ]
  },
  {
   "cell_type": "code",
   "execution_count": 5,
   "id": "06ea8b0e",
   "metadata": {},
   "outputs": [
    {
     "data": {
      "text/plain": [
       "[<matplotlib.lines.Line2D at 0x1b1d387d1e0>]"
      ]
     },
     "execution_count": 5,
     "metadata": {},
     "output_type": "execute_result"
    },
    {
     "data": {
      "image/png": "[encoded data removed]",
      "text/plain": [
       "<Figure size 640x480 with 1 Axes>"
      ]
     },
     "metadata": {},
     "output_type": "display_data"
    }
   ],
   "source": [
    "fig = plt.figure()\n",
    "plt.rcParams[\"axes.labelsize\"] = 22\n",
    "plt.rc('font', size=14)  \n",
    "ax = fig.gca()\n",
    "ax.set_xlabel('x')\n",
    "ax.set_ylabel(r'$|\\psi|^2$')\n",
    "ax.grid()\n",
    "ax.plot(x, np.abs(psi)**2)"
   ]
  },
  {
   "cell_type": "markdown",
   "id": "8d5d3e09",
   "metadata": {},
   "source": [
    "# Solving Schrödinger equation with finite differences: "
   ]
  },
  {
   "cell_type": "markdown",
   "id": "79aad85e",
   "metadata": {},
   "source": [
    "More information on this approach: https://blog.cupcakephysics.com/computational%20physics/2014/11/02/the-finite-difference-method-and-schrodingers-equation.html"
   ]
  },
  {
   "cell_type": "code",
   "execution_count": 6,
   "id": "c69d79bd",
   "metadata": {},
   "outputs": [
    {
     "name": "stdout",
     "output_type": "stream",
     "text": [
      "[[-2.50e+05  6.25e+05 -5.00e+05 ...  0.00e+00  0.00e+00 -5.00e-01]\n",
      " [-1.25e+05  2.50e+05 -1.25e+05 ...  0.00e+00  0.00e+00  0.00e+00]\n",
      " [ 0.00e+00 -1.25e+05  2.50e+05 ...  0.00e+00  0.00e+00  0.00e+00]\n",
      " ...\n",
      " [ 0.00e+00  0.00e+00  0.00e+00 ...  2.50e+05 -1.25e+05  0.00e+00]\n",
      " [ 0.00e+00  0.00e+00  0.00e+00 ... -1.25e+05  2.50e+05 -1.25e+05]\n",
      " [-5.00e-01  0.00e+00  0.00e+00 ... -5.00e+05  6.25e+05 -2.50e+05]]\n",
      "[[-2.50e+05  6.25e+05 -5.00e+05 ...  0.00e+00  0.00e+00 -5.00e-01]\n",
      " [-1.25e+05  2.50e+05 -1.25e+05 ...  0.00e+00  0.00e+00  0.00e+00]\n",
      " [ 0.00e+00 -1.25e+05  2.50e+05 ...  0.00e+00  0.00e+00  0.00e+00]\n",
      " ...\n",
      " [ 0.00e+00  0.00e+00  0.00e+00 ...  2.50e+05 -1.25e+05  0.00e+00]\n",
      " [ 0.00e+00  0.00e+00  0.00e+00 ... -1.25e+05  2.50e+05 -1.25e+05]\n",
      " [-5.00e-01  0.00e+00  0.00e+00 ... -5.00e+05  6.25e+05 -2.50e+05]]\n"
     ]
    },
    {
     "name": "stderr",
     "output_type": "stream",
     "text": [
      "C:\\Users\\jgeorge\\Miniconda3\\envs\\sgl_teaching\\lib\\site-packages\\scipy\\sparse\\_index.py:103: SparseEfficiencyWarning: Changing the sparsity structure of a csr_matrix is expensive. lil_matrix is more efficient.\n",
      "  self._set_intXint(row, col, x.flat[0])\n"
     ]
    }
   ],
   "source": [
    "\n",
    "# The discretized Hamiltonian as a sparse matrix:\n",
    "# atomic units:\n",
    "hbar=1\n",
    "m=1\n",
    "Delta=FinDiff(0, x[1] - x[0], 2, acc=2).matrix(x.shape)\n",
    "# Periodic boundary conditions\n",
    "Delta[-1,0]=1\n",
    "Delta[0,-1]=1\n",
    "\n",
    "H = -0.5 *hbar/m* Delta\n",
    "\n",
    "print(H.toarray())\n",
    "\n",
    "# Here, an additional potential can be added\n",
    "from scipy.sparse import diags\n",
    "\n",
    "#Free particle\n",
    "V=0*x\n",
    "# Potential of a harmonic oscillator\n",
    "#V=0.5*x**2\n",
    "\n",
    "#Potential of a particle in a box\n",
    "H=H+diags(V)\n",
    "\n",
    "print(H.toarray())"
   ]
  },
  {
   "cell_type": "markdown",
   "id": "6a952ece",
   "metadata": {},
   "source": [
    "\\\\[\n",
    " \\frac{\\partial}{\\partial t} \\psi(t)=-iH  \\psi(t)\n",
    "\\\\]"
   ]
  },
  {
   "cell_type": "code",
   "execution_count": 7,
   "id": "2eb9cd53",
   "metadata": {},
   "outputs": [],
   "source": [
    "# Solve time dependent Schrödinger equation\n",
    "def psi_t(t, psi):\n",
    "    return -1j * H.dot(psi)\n",
    "\n",
    "sol = solve_ivp(psi_t, t_span = [t0,tf], \n",
    "                                y0 = psi, \n",
    "                                t_eval = ts,\n",
    "                                method=\"RK23\")"
   ]
  },
  {
   "cell_type": "code",
   "execution_count": 8,
   "id": "7b33d031",
   "metadata": {
    "scrolled": true
   },
   "outputs": [
    {
     "name": "stderr",
     "output_type": "stream",
     "text": [
      "MovieWriter ffmpeg unavailable; using Pillow instead.\n"
     ]
    },
    {
     "name": "stdout",
     "output_type": "stream",
     "text": [
      "0.9999999999999998\n",
      "0.9999999999999998\n",
      "0.999944437525964\n",
      "0.9998958180757173\n",
      "0.9998947660384432\n",
      "0.9998946790831876\n",
      "0.9998946443618554\n",
      "0.9998946304291537\n",
      "0.9998946274646086\n",
      "0.9998946267383678\n",
      "0.9998946260072561\n",
      "0.9998946252399707\n",
      "0.9998946253992222\n",
      "0.9998946254004774\n",
      "0.9998946248157792\n",
      "0.9998946250240451\n",
      "0.9998946250538325\n",
      "0.9998946245575461\n",
      "0.9998946248410242\n",
      "0.9998946248006612\n",
      "0.9998946243900939\n",
      "0.99989462476398\n",
      "0.9998946245961878\n",
      "0.9998946243040996\n",
      "0.9998946247472851\n",
      "0.9998946244236518\n",
      "0.9998946242985142\n",
      "0.9998946247475857\n",
      "0.9998946242854834\n",
      "0.9998946243702583\n",
      "0.9998946247259646\n",
      "0.9998946241955359\n",
      "0.9998946245080332\n",
      "0.9998946246714384\n",
      "0.9998946241712688\n",
      "0.999894624690249\n",
      "0.9998946245934847\n",
      "0.9998946242273115\n",
      "0.9998946248857264\n",
      "0.9998946245122222\n",
      "0.9998946243711437\n",
      "0.9998946250571197\n",
      "0.9998946244531208\n",
      "0.9998946246005216\n",
      "0.9998946251708597\n",
      "0.99989462444236\n",
      "0.9998946249027916\n",
      "0.9998946252260921\n",
      "0.9998946245030329\n",
      "0.9998946252555517\n",
      "0.9998946252405172\n",
      "0.9998946246523815\n",
      "0.9998946256287239\n",
      "0.9998946252381049\n",
      "0.9998946249000481\n",
      "0.9998946259874217\n",
      "0.9998946252456323\n",
      "0.999894625247268\n",
      "0.999894626295861\n",
      "0.9998946252897019\n",
      "0.9998946256868607\n",
      "0.99989462653471\n",
      "0.9998946253944737\n",
      "0.9998946262039431\n",
      "0.9998946267132888\n",
      "0.9998946255799742\n",
      "0.999894626777191\n",
      "0.9998946268490544\n",
      "0.999894625860981\n",
      "0.9998946273805877\n",
      "0.999894626963096\n",
      "0.9998946262464529\n",
      "0.9998946279853377\n",
      "0.9998946270779848\n",
      "0.9998946267394144\n",
      "0.999894628562013\n",
      "0.9998946272160435\n",
      "0.9998946273372118\n",
      "0.9998946290833112\n",
      "0.9998946273980164\n",
      "0.9998946280320454\n",
      "0.9998946295387148\n",
      "0.9998946276421519\n",
      "0.9998946288118359\n",
      "0.9998946299365272\n",
      "0.9998946279635234\n",
      "0.9998946296610761\n",
      "0.9998946302892182\n",
      "0.999894628373733\n",
      "0.9998946305619478\n",
      "0.9998946306113217\n",
      "0.9998946288807485\n",
      "0.9998946314952551\n",
      "0.9998946309182569\n",
      "0.9998946294890451\n",
      "0.9998946324415169\n",
      "0.9998946312253877\n",
      "0.9998946301998117\n",
      "0.9998946333819084\n",
      "0.9998946315473686\n",
      "0.9998946310113088\n",
      "0.999894634298991\n",
      "0.9998946318975578\n",
      "0.9998946319193087\n",
      "0.9998946351774407\n",
      "0.9998946322876981\n",
      "0.9998946329175791\n",
      "0.9998946360085038\n",
      "0.9998946327277098\n",
      "0.9998946339983402\n",
      "0.9998946367958618\n",
      "0.9998946332255577\n",
      "0.9998946351527299\n",
      "0.9998946375461761\n",
      "0.9998946337872631\n",
      "0.9998946363712633\n",
      "0.9998946382668283\n",
      "0.9998946344168823\n",
      "0.9998946376442235\n",
      "0.9998946389653206\n",
      "0.9998946351166335\n",
      "0.9998946389617719\n",
      "0.9998946396488716\n",
      "0.9998946358869223\n",
      "0.9998946403143049\n",
      "0.999894640323793\n",
      "0.9998946367263538\n",
      "0.9998946416923881\n",
      "0.9998946409952029\n",
      "0.9998946376317273\n",
      "0.9998946430864125\n",
      "0.9998946416664438\n",
      "0.999894638597954\n",
      "0.9998946444867362\n",
      "0.999894642338757\n",
      "0.9998946396177086\n",
      "0.9998946458829555\n",
      "0.9998946430107652\n",
      "0.9998946406815956\n",
      "0.999894647263556\n",
      "0.9998946436782421\n",
      "0.9998946417776333\n",
      "0.9998946486158733\n",
      "0.9998946443339118\n",
      "0.9998946428914397\n",
      "0.9998946499256905\n",
      "0.9998946449677799\n",
      "0.9998946440068408\n",
      "0.9998946511779093\n",
      "0.9998946455680512\n",
      "0.9998946451065057\n",
      "0.999894652358457\n",
      "0.999894646123984\n",
      "0.9998946461762604\n",
      "0.9998946534577764\n",
      "0.9998946466307463\n",
      "0.9998946472113548\n",
      "0.9998946544813038\n",
      "0.9998946471006577\n",
      "0.99989464822847\n",
      "0.9998946554638386\n",
      "0.9998946475807231\n",
      "0.9998946492873304\n",
      "0.9998946564893347\n",
      "0.9998946481747814\n",
      "0.9998946505126234\n",
      "0.9998946577110804\n",
      "0.9998946490552592\n",
      "0.9998946520895018\n",
      "0.9998946593298904\n",
      "0.9998946504136926\n",
      "0.9998946541774218\n",
      "0.9998946614474729\n",
      "0.9998946522440858\n",
      "0.9998946566063187\n",
      "0.9998946636827155\n",
      "0.999894653880832\n",
      "0.999894658375488\n",
      "0.9998946647424004\n",
      "0.999894653873144\n",
      "0.9998946582714806\n",
      "0.9998946645546403\n",
      "0.9998946550048835\n",
      "0.9998946651568219\n",
      "0.9998946839164623\n",
      "0.9998947002095089\n",
      "0.9998947617227073\n",
      "0.9998948754496314\n",
      "0.9998950630398311\n",
      "0.9998954281711602\n",
      "0.9998960703913641\n",
      "0.9998971662635991\n",
      "0.9998990813450113\n",
      "0.9999023415480542\n",
      "0.999907847129243\n",
      "0.9999171617106825\n",
      "0.9999327941242835\n",
      "0.9999589532462629\n",
      "1.0000026893662972\n",
      "1.0000756233850654\n",
      "1.0001971003953907\n"
     ]
    },
    {
     "data": {
      "application/vnd.jupyter.widget-view+json": {
       "model_id": "82d2331ed6574f60b40dfc5ed8c408f9",
       "version_major": 2,
       "version_minor": 0
      },
      "image/png": "[encoded data removed]",
      "text/html": [
       "\n",
       "            <div style=\"display: inline-block;\">\n",
       "                <div class=\"jupyter-widgets widget-label\" style=\"text-align: center;\">\n",
       "                    Figure\n",
       "                </div>\n",
       "                <img src='data:image/png;base64,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' width=640.0/>\n",
       "            </div>\n",
       "        "
      ],
      "text/plain": [
       "Canvas(toolbar=Toolbar(toolitems=[('Home', 'Reset original view', 'home', 'home'), ('Back', 'Back to previous …"
      ]
     },
     "metadata": {},
     "output_type": "display_data"
    }
   ],
   "source": [
    "%matplotlib widget\n",
    "from matplotlib import animation\n",
    "\n",
    "fig = plt.figure()\n",
    "ax1 = plt.subplot(1,1,1)\n",
    "ax1.set_xlim(0, 10)\n",
    "ax1.set_ylim(0, 6)\n",
    "ax1.set_xlabel('x (a.u.)')\n",
    "ax1.set_ylabel(r'$|\\psi|^2$')\n",
    "ax1.grid()\n",
    "title = ax1.set_title('')\n",
    "line1, = ax1.plot([], [])\n",
    "\n",
    "\n",
    "def animate(i):\n",
    "    line1.set_data(x, np.abs(sol.y[:,i])**2)\n",
    "    print(np.sum(np.abs(sol.y[:,i])**2)*(dx)) \n",
    "    title.set_text('Time = {0:1.3f} a.u.'.format(sol.t[i]))\n",
    "    return line1\n",
    "\n",
    "\n",
    "anim = animation.FuncAnimation(fig, animate,\n",
    "                               frames=len(sol.t), interval=50, blit=True)\n",
    "anim.save(\"Broadening_Gaussian_wave_packet.gif\")"
   ]
  },
  {
   "cell_type": "code",
   "execution_count": null,
   "id": "89e67c17",
   "metadata": {},
   "outputs": [],
   "source": []
  }
 ],
 "metadata": {
  "kernelspec": {
   "display_name": "Python 3 (ipykernel)",
   "language": "python",
   "name": "python3"
  },
  "language_info": {
   "codemirror_mode": {
    "name": "ipython",
    "version": 3
   },
   "file_extension": ".py",
   "mimetype": "text/x-python",
   "name": "python",
   "nbconvert_exporter": "python",
   "pygments_lexer": "ipython3",
   "version": "3.10.8"
  }
 },
 "nbformat": 4,
 "nbformat_minor": 5
}
